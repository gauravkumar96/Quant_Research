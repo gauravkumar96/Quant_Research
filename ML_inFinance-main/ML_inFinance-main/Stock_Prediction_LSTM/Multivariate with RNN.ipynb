{
 "cells": [
  {
   "cell_type": "code",
   "execution_count": 84,
   "metadata": {},
   "outputs": [
    {
     "data": {
      "text/plain": [
       "'D:\\\\Programming'"
      ]
     },
     "execution_count": 84,
     "metadata": {},
     "output_type": "execute_result"
    }
   ],
   "source": [
    "pwd"
   ]
  },
  {
   "cell_type": "code",
   "execution_count": 85,
   "metadata": {},
   "outputs": [
    {
     "data": {
      "text/plain": [
       "datetime.datetime(2021, 5, 1, 20, 15, 23, 348086)"
      ]
     },
     "execution_count": 85,
     "metadata": {},
     "output_type": "execute_result"
    }
   ],
   "source": [
    "datetime.now()"
   ]
  },
  {
   "cell_type": "code",
   "execution_count": 1,
   "metadata": {},
   "outputs": [],
   "source": [
    "# First we will try the univariate forecasting and then we'll go for multivariate forecasting\n",
    "import numpy as np\n",
    "import pandas as pd\n",
    "import matplotlib.pyplot as plt\n",
    "from keras.models import Sequential\n",
    "from keras.layers import Dense, LSTM\n",
    "import warnings\n",
    "warnings.filterwarnings('ignore')\n",
    "from pylab import rcParams\n",
    "rcParams['figure.figsize'] = 12,6\n",
    "from sklearn.preprocessing import MinMaxScaler\n",
    "import pandas_datareader.data as web\n",
    "from datetime import datetime"
   ]
  },
  {
   "cell_type": "code",
   "execution_count": 2,
   "metadata": {},
   "outputs": [],
   "source": [
    "start = datetime(2010,1,1)\n",
    "end = datetime(2020,1,1)\n",
    "\n",
    "rel = web.DataReader('RELIANCE.NS','yahoo',start,end)"
   ]
  },
  {
   "cell_type": "code",
   "execution_count": 3,
   "metadata": {},
   "outputs": [],
   "source": [
    "rel = rel[['Adj Close','Volume']]"
   ]
  },
  {
   "cell_type": "code",
   "execution_count": 4,
   "metadata": {},
   "outputs": [
    {
     "data": {
      "text/html": [
       "<div>\n",
       "<style scoped>\n",
       "    .dataframe tbody tr th:only-of-type {\n",
       "        vertical-align: middle;\n",
       "    }\n",
       "\n",
       "    .dataframe tbody tr th {\n",
       "        vertical-align: top;\n",
       "    }\n",
       "\n",
       "    .dataframe thead th {\n",
       "        text-align: right;\n",
       "    }\n",
       "</style>\n",
       "<table border=\"1\" class=\"dataframe\">\n",
       "  <thead>\n",
       "    <tr style=\"text-align: right;\">\n",
       "      <th></th>\n",
       "      <th>Adj Close</th>\n",
       "      <th>Volume</th>\n",
       "    </tr>\n",
       "    <tr>\n",
       "      <th>Date</th>\n",
       "      <th></th>\n",
       "      <th></th>\n",
       "    </tr>\n",
       "  </thead>\n",
       "  <tbody>\n",
       "    <tr>\n",
       "      <th>2010-01-04</th>\n",
       "      <td>485.824005</td>\n",
       "      <td>35372156.0</td>\n",
       "    </tr>\n",
       "    <tr>\n",
       "      <th>2010-01-05</th>\n",
       "      <td>483.655701</td>\n",
       "      <td>9872785.0</td>\n",
       "    </tr>\n",
       "    <tr>\n",
       "      <th>2010-01-06</th>\n",
       "      <td>491.470398</td>\n",
       "      <td>10933743.0</td>\n",
       "    </tr>\n",
       "  </tbody>\n",
       "</table>\n",
       "</div>"
      ],
      "text/plain": [
       "             Adj Close      Volume\n",
       "Date                              \n",
       "2010-01-04  485.824005  35372156.0\n",
       "2010-01-05  483.655701   9872785.0\n",
       "2010-01-06  491.470398  10933743.0"
      ]
     },
     "execution_count": 4,
     "metadata": {},
     "output_type": "execute_result"
    }
   ],
   "source": [
    "rel.head(3)"
   ]
  },
  {
   "cell_type": "markdown",
   "metadata": {},
   "source": [
    "### First of all we'll go for univariate forecasting using RNN-LSTM"
   ]
  },
  {
   "cell_type": "code",
   "execution_count": 5,
   "metadata": {},
   "outputs": [],
   "source": [
    "rel_uni = rel['Adj Close']\n",
    "rel_uni.columns = ['close']"
   ]
  },
  {
   "cell_type": "code",
   "execution_count": 6,
   "metadata": {},
   "outputs": [],
   "source": [
    "train, test = rel_uni[:int(len(rel_uni)*0.8)],rel_uni[int(len(rel_uni)*0.8):]"
   ]
  },
  {
   "cell_type": "code",
   "execution_count": 7,
   "metadata": {},
   "outputs": [
    {
     "data": {
      "text/plain": [
       "(1969, 493)"
      ]
     },
     "execution_count": 7,
     "metadata": {},
     "output_type": "execute_result"
    }
   ],
   "source": [
    "len(train), len(test)"
   ]
  },
  {
   "cell_type": "code",
   "execution_count": 8,
   "metadata": {},
   "outputs": [
    {
     "data": {
      "text/plain": [
       "\"\\nWe will make a model that takes in the previous 14 days data and then predicts the 15th day data or we can say the close \\nof the 15th day.\\n\\nWe'll make arrays for the train data as well as the test data and then we'll predict the values on the test inputs and compare \\nwith the actual values. \\n\""
      ]
     },
     "execution_count": 8,
     "metadata": {},
     "output_type": "execute_result"
    }
   ],
   "source": [
    "\"\"\"\n",
    "We will make a model that takes in the previous 14 days data and then predicts the 15th day data or we can say the close \n",
    "of the 15th day.\n",
    "\n",
    "We'll make arrays for the train data as well as the test data and then we'll predict the values on the test inputs and compare \n",
    "with the actual values. \n",
    "\"\"\""
   ]
  },
  {
   "cell_type": "code",
   "execution_count": 12,
   "metadata": {},
   "outputs": [],
   "source": []
  },
  {
   "cell_type": "code",
   "execution_count": 16,
   "metadata": {},
   "outputs": [
    {
     "data": {
      "text/plain": [
       "((1969, 1), (493, 1))"
      ]
     },
     "execution_count": 16,
     "metadata": {},
     "output_type": "execute_result"
    }
   ],
   "source": [
    "# Converting the series in to the array form so that out model has no issue and stops throwing out some errors\n",
    "\n",
    "train_arr = np.array(train)\n",
    "train_arr = train_arr.reshape(-1,1)\n",
    "\n",
    "\n",
    "test_arr = np.array(test)\n",
    "test_arr = test_arr.reshape(-1,1)\n",
    "\n",
    "train_arr.shape, test_arr.shape"
   ]
  },
  {
   "cell_type": "code",
   "execution_count": 17,
   "metadata": {},
   "outputs": [],
   "source": [
    "# Scaling the data for its use in the network\n",
    "scaler = MinMaxScaler()\n",
    "scaler.fit(train_arr)\n",
    "train_scaled = scaler.transform(train_arr)\n",
    "\n",
    "#similarily scaling the data of the test data\n",
    "test_scaled = scaler.transform(test_arr)"
   ]
  },
  {
   "cell_type": "code",
   "execution_count": 26,
   "metadata": {},
   "outputs": [],
   "source": [
    "# Seperating the train and test into packets of input and corresponding outputs\n",
    "trainx = []\n",
    "trainy = []\n",
    "\n",
    "testx = []\n",
    "testy = []\n",
    "\n",
    "n_inputs = 14 # we choose to look for previous 14 days to predict the 15th days close price\n",
    "\n",
    "for i in range(n_inputs, len(train_scaled)):\n",
    "    trainx.append(np.array(train_scaled[i-n_inputs:i]))\n",
    "    trainy.append(train_scaled[i])\n",
    "\n",
    "for i in range(n_inputs, len(test_scaled)):\n",
    "    testx.append(np.array(test_scaled[i-n_inputs:i]))\n",
    "    testy.append(test_scaled[i])\n"
   ]
  },
  {
   "cell_type": "code",
   "execution_count": 29,
   "metadata": {},
   "outputs": [],
   "source": [
    "trainx = np.array(trainx)\n",
    "trainy = np.array(trainy)\n",
    "\n",
    "testx = np.array(testx)\n",
    "testy = np.array(testy)"
   ]
  },
  {
   "cell_type": "code",
   "execution_count": 30,
   "metadata": {
    "scrolled": false
   },
   "outputs": [
    {
     "data": {
      "text/plain": [
       "((1955, 14, 1), (1955, 1), (479, 14, 1), (479, 1))"
      ]
     },
     "execution_count": 30,
     "metadata": {},
     "output_type": "execute_result"
    }
   ],
   "source": [
    "trainx.shape,trainy.shape,testx.shape,testy.shape"
   ]
  },
  {
   "cell_type": "code",
   "execution_count": 39,
   "metadata": {},
   "outputs": [
    {
     "name": "stdout",
     "output_type": "stream",
     "text": [
      "Model: \"sequential_6\"\n",
      "_________________________________________________________________\n",
      "Layer (type)                 Output Shape              Param #   \n",
      "=================================================================\n",
      "lstm_9 (LSTM)                (None, 300)               362400    \n",
      "_________________________________________________________________\n",
      "dense_1 (Dense)              (None, 1)                 301       \n",
      "=================================================================\n",
      "Total params: 362,701\n",
      "Trainable params: 362,701\n",
      "Non-trainable params: 0\n",
      "_________________________________________________________________\n"
     ]
    }
   ],
   "source": [
    "\"\"\"\n",
    "Building a LSTM model so as to predic the stock prices of the stock the next day. Lets keep in mind that we have \n",
    "chosen to work over the raw data of the close price and haven't taken into account for the non-stationarity fo the \n",
    "nature of the data\n",
    "\"\"\"\n",
    "model = Sequential()\n",
    "model.add(LSTM(300, activation='relu', input_shape=(n_inputs,1)))\n",
    "model.add(Dense(1))\n",
    "model.compile(optimizer='adam', loss='mse')\n",
    "model.summary()"
   ]
  },
  {
   "cell_type": "code",
   "execution_count": 40,
   "metadata": {
    "collapsed": true
   },
   "outputs": [
    {
     "name": "stdout",
     "output_type": "stream",
     "text": [
      "Epoch 1/100\n",
      "62/62 [==============================] - 7s 55ms/step - loss: 0.0204\n",
      "Epoch 2/100\n",
      "62/62 [==============================] - 3s 54ms/step - loss: 6.6136e-04\n",
      "Epoch 3/100\n",
      "62/62 [==============================] - 3s 55ms/step - loss: 5.7936e-04\n",
      "Epoch 4/100\n",
      "62/62 [==============================] - 3s 54ms/step - loss: 5.2211e-04\n",
      "Epoch 5/100\n",
      "62/62 [==============================] - 3s 53ms/step - loss: 4.6786e-04\n",
      "Epoch 6/100\n",
      "62/62 [==============================] - 3s 56ms/step - loss: 5.3375e-04\n",
      "Epoch 7/100\n",
      "62/62 [==============================] - 4s 59ms/step - loss: 4.6429e-04\n",
      "Epoch 8/100\n",
      "62/62 [==============================] - 4s 60ms/step - loss: 4.6183e-04\n",
      "Epoch 9/100\n",
      "62/62 [==============================] - 4s 59ms/step - loss: 3.5819e-04\n",
      "Epoch 10/100\n",
      "62/62 [==============================] - 4s 61ms/step - loss: 4.5521e-04\n",
      "Epoch 11/100\n",
      "62/62 [==============================] - 3s 50ms/step - loss: 5.0030e-04\n",
      "Epoch 12/100\n",
      "62/62 [==============================] - 3s 52ms/step - loss: 3.3477e-04\n",
      "Epoch 13/100\n",
      "62/62 [==============================] - 3s 52ms/step - loss: 3.3941e-04\n",
      "Epoch 14/100\n",
      "62/62 [==============================] - 3s 51ms/step - loss: 3.0433e-04\n",
      "Epoch 15/100\n",
      "62/62 [==============================] - 3s 55ms/step - loss: 2.8068e-04\n",
      "Epoch 16/100\n",
      "62/62 [==============================] - 3s 51ms/step - loss: 2.9312e-04\n",
      "Epoch 17/100\n",
      "62/62 [==============================] - 4s 62ms/step - loss: 4.0519e-04\n",
      "Epoch 18/100\n",
      "62/62 [==============================] - 4s 60ms/step - loss: 2.7867e-04\n",
      "Epoch 19/100\n",
      "62/62 [==============================] - 4s 61ms/step - loss: 2.3625e-04\n",
      "Epoch 20/100\n",
      "62/62 [==============================] - 3s 54ms/step - loss: 2.5071e-04: 0s - loss: 2.5007e-0\n",
      "Epoch 21/100\n",
      "62/62 [==============================] - 4s 57ms/step - loss: 2.7418e-04: 1\n",
      "Epoch 22/100\n",
      "62/62 [==============================] - 3s 55ms/step - loss: 2.7015e-04\n",
      "Epoch 23/100\n",
      "62/62 [==============================] - 3s 56ms/step - loss: 2.3176e-04\n",
      "Epoch 24/100\n",
      "62/62 [==============================] - 3s 52ms/step - loss: 2.2130e-04\n",
      "Epoch 25/100\n",
      "62/62 [==============================] - 3s 54ms/step - loss: 2.5309e-04\n",
      "Epoch 26/100\n",
      "62/62 [==============================] - 3s 51ms/step - loss: 1.9776e-04: 3s - lo\n",
      "Epoch 27/100\n",
      "62/62 [==============================] - 3s 54ms/step - loss: 2.5463e-04\n",
      "Epoch 28/100\n",
      "62/62 [==============================] - 4s 58ms/step - loss: 2.2195e-04\n",
      "Epoch 29/100\n",
      "62/62 [==============================] - 3s 52ms/step - loss: 2.1828e-04\n",
      "Epoch 30/100\n",
      "62/62 [==============================] - 3s 53ms/step - loss: 2.0894e-04\n",
      "Epoch 31/100\n",
      "62/62 [==============================] - 3s 56ms/step - loss: 2.8662e-04:  - ETA: 0s - loss: 2.8776e-0\n",
      "Epoch 32/100\n",
      "62/62 [==============================] - 4s 57ms/step - loss: 2.1081e-04\n",
      "Epoch 33/100\n",
      "62/62 [==============================] - 3s 56ms/step - loss: 1.9901e-04: \n",
      "Epoch 34/100\n",
      "62/62 [==============================] - 3s 56ms/step - loss: 2.1066e-04\n",
      "Epoch 35/100\n",
      "62/62 [==============================] - 3s 56ms/step - loss: 1.9670e-04\n",
      "Epoch 36/100\n",
      "62/62 [==============================] - 4s 57ms/step - loss: 2.1243e-04\n",
      "Epoch 37/100\n",
      "62/62 [==============================] - 3s 54ms/step - loss: 2.0513e-04\n",
      "Epoch 38/100\n",
      "62/62 [==============================] - 3s 53ms/step - loss: 1.8134e-04\n",
      "Epoch 39/100\n",
      "62/62 [==============================] - 3s 53ms/step - loss: 1.8170e-04\n",
      "Epoch 40/100\n",
      "62/62 [==============================] - 3s 55ms/step - loss: 1.8047e-04\n",
      "Epoch 41/100\n",
      "62/62 [==============================] - 3s 53ms/step - loss: 2.1107e-04\n",
      "Epoch 42/100\n",
      "62/62 [==============================] - 3s 55ms/step - loss: 2.2338e-04\n",
      "Epoch 43/100\n",
      "62/62 [==============================] - 3s 55ms/step - loss: 1.9037e-04\n",
      "Epoch 44/100\n",
      "62/62 [==============================] - 3s 52ms/step - loss: 1.7852e-04\n",
      "Epoch 45/100\n",
      "62/62 [==============================] - 3s 56ms/step - loss: 1.6955e-04\n",
      "Epoch 46/100\n",
      "62/62 [==============================] - 3s 52ms/step - loss: 1.9566e-04\n",
      "Epoch 47/100\n",
      "62/62 [==============================] - 4s 56ms/step - loss: 1.7548e-04\n",
      "Epoch 48/100\n",
      "62/62 [==============================] - 3s 54ms/step - loss: 1.7516e-04\n",
      "Epoch 49/100\n",
      "62/62 [==============================] - 3s 55ms/step - loss: 1.7283e-04\n",
      "Epoch 50/100\n",
      "62/62 [==============================] - 3s 55ms/step - loss: 1.6527e-04\n",
      "Epoch 51/100\n",
      "62/62 [==============================] - 3s 56ms/step - loss: 1.7200e-04\n",
      "Epoch 52/100\n",
      "62/62 [==============================] - 3s 56ms/step - loss: 1.4857e-04\n",
      "Epoch 53/100\n",
      "62/62 [==============================] - 3s 56ms/step - loss: 2.1526e-04: 0s - loss: 2.2143e-0 - ETA: 0s - loss: 2\n",
      "Epoch 54/100\n",
      "62/62 [==============================] - 3s 55ms/step - loss: 1.8494e-04\n",
      "Epoch 55/100\n",
      "62/62 [==============================] - 3s 53ms/step - loss: 1.8423e-04\n",
      "Epoch 56/100\n",
      "62/62 [==============================] - 4s 62ms/step - loss: 2.1495e-04\n",
      "Epoch 57/100\n",
      "62/62 [==============================] - 3s 53ms/step - loss: 1.9848e-04\n",
      "Epoch 58/100\n",
      "62/62 [==============================] - 4s 60ms/step - loss: 1.7646e-04\n",
      "Epoch 59/100\n",
      "62/62 [==============================] - 4s 57ms/step - loss: 2.1916e-04\n",
      "Epoch 60/100\n",
      "62/62 [==============================] - 3s 47ms/step - loss: 1.9862e-04\n",
      "Epoch 61/100\n",
      "62/62 [==============================] - 3s 52ms/step - loss: 1.6541e-04\n",
      "Epoch 62/100\n",
      "62/62 [==============================] - 3s 52ms/step - loss: 1.5801e-04\n",
      "Epoch 63/100\n",
      "62/62 [==============================] - 3s 55ms/step - loss: 1.6682e-04\n",
      "Epoch 64/100\n",
      "62/62 [==============================] - 3s 55ms/step - loss: 1.8976e-04\n",
      "Epoch 65/100\n",
      "62/62 [==============================] - 3s 52ms/step - loss: 1.7514e-04\n",
      "Epoch 66/100\n",
      "62/62 [==============================] - 3s 48ms/step - loss: 2.2570e-04\n",
      "Epoch 67/100\n",
      "62/62 [==============================] - 4s 61ms/step - loss: 1.8426e-04\n",
      "Epoch 68/100\n",
      "62/62 [==============================] - 3s 56ms/step - loss: 1.7059e-04\n",
      "Epoch 69/100\n",
      "62/62 [==============================] - 4s 58ms/step - loss: 1.5142e-04\n",
      "Epoch 70/100\n",
      "62/62 [==============================] - 4s 63ms/step - loss: 2.5944e-04\n",
      "Epoch 71/100\n",
      "62/62 [==============================] - 4s 60ms/step - loss: 1.6116e-04: 0s - loss:\n",
      "Epoch 72/100\n",
      "62/62 [==============================] - 4s 59ms/step - loss: 1.9744e-04\n",
      "Epoch 73/100\n",
      "62/62 [==============================] - 4s 59ms/step - loss: 1.6783e-04\n",
      "Epoch 74/100\n",
      "62/62 [==============================] - 3s 48ms/step - loss: 1.6442e-04: 0s - loss: 1.6482\n",
      "Epoch 75/100\n",
      "62/62 [==============================] - 3s 46ms/step - loss: 1.4813e-04\n",
      "Epoch 76/100\n",
      "62/62 [==============================] - 3s 49ms/step - loss: 2.0257e-04\n",
      "Epoch 77/100\n",
      "62/62 [==============================] - 3s 46ms/step - loss: 1.6622e-04\n",
      "Epoch 78/100\n",
      "62/62 [==============================] - 3s 49ms/step - loss: 1.5556e-04: 1s -  - ETA: 0s - loss: 1.5353\n",
      "Epoch 79/100\n",
      "62/62 [==============================] - 4s 62ms/step - loss: 1.8679e-04\n",
      "Epoch 80/100\n",
      "62/62 [==============================] - 3s 53ms/step - loss: 1.6423e-04\n",
      "Epoch 81/100\n",
      "62/62 [==============================] - 3s 50ms/step - loss: 1.6417e-04\n",
      "Epoch 82/100\n",
      "62/62 [==============================] - 3s 51ms/step - loss: 1.6664e-04: 1s - lo - ETA: 0s - loss: 1\n",
      "Epoch 83/100\n",
      "62/62 [==============================] - 3s 52ms/step - loss: 2.0254e-04: \n",
      "Epoch 84/100\n",
      "62/62 [==============================] - 3s 53ms/step - loss: 1.9276e-04\n",
      "Epoch 85/100\n",
      "62/62 [==============================] - 3s 45ms/step - loss: 1.8762e-04\n",
      "Epoch 86/100\n",
      "62/62 [==============================] - 4s 65ms/step - loss: 1.9273e-04\n",
      "Epoch 87/100\n",
      "62/62 [==============================] - 3s 48ms/step - loss: 1.6283e-04\n",
      "Epoch 88/100\n",
      "62/62 [==============================] - 3s 56ms/step - loss: 1.8115e-04\n",
      "Epoch 89/100\n",
      "62/62 [==============================] - 3s 44ms/step - loss: 1.6062e-04\n",
      "Epoch 90/100\n",
      "62/62 [==============================] - 3s 46ms/step - loss: 1.6709e-04\n",
      "Epoch 91/100\n",
      "62/62 [==============================] - 3s 47ms/step - loss: 1.9816e-04\n",
      "Epoch 92/100\n",
      "62/62 [==============================] - 3s 47ms/step - loss: 1.7092e-04\n",
      "Epoch 93/100\n",
      "62/62 [==============================] - 3s 47ms/step - loss: 1.7340e-04\n",
      "Epoch 94/100\n"
     ]
    },
    {
     "name": "stdout",
     "output_type": "stream",
     "text": [
      "62/62 [==============================] - 3s 47ms/step - loss: 1.7901e-04\n",
      "Epoch 95/100\n",
      "62/62 [==============================] - 3s 46ms/step - loss: 1.6791e-04\n",
      "Epoch 96/100\n",
      "62/62 [==============================] - 3s 47ms/step - loss: 1.6320e-04\n",
      "Epoch 97/100\n",
      "62/62 [==============================] - 3s 49ms/step - loss: 1.9027e-04: 0s - loss: 1.\n",
      "Epoch 98/100\n",
      "62/62 [==============================] - 3s 49ms/step - loss: 1.6980e-04\n",
      "Epoch 99/100\n",
      "62/62 [==============================] - 3s 53ms/step - loss: 1.4447e-04\n",
      "Epoch 100/100\n",
      "62/62 [==============================] - 3s 50ms/step - loss: 1.5922e-04\n"
     ]
    },
    {
     "data": {
      "text/plain": [
       "<tensorflow.python.keras.callbacks.History at 0x214d3d33430>"
      ]
     },
     "execution_count": 40,
     "metadata": {},
     "output_type": "execute_result"
    }
   ],
   "source": [
    "model.fit(x=trainx, y=trainy, epochs=100, verbose=1)"
   ]
  },
  {
   "cell_type": "code",
   "execution_count": 48,
   "metadata": {},
   "outputs": [],
   "source": [
    "predy_arr = model.predict(testx)"
   ]
  },
  {
   "cell_type": "code",
   "execution_count": 62,
   "metadata": {},
   "outputs": [],
   "source": [
    "predY_df = scaler.inverse_transform(predy_arr)"
   ]
  },
  {
   "cell_type": "code",
   "execution_count": 71,
   "metadata": {},
   "outputs": [],
   "source": [
    "predy_ls = []\n",
    "for i in range(len(predY_df)):\n",
    "    predy_ls.append(predY_df[i][0])"
   ]
  },
  {
   "cell_type": "code",
   "execution_count": 75,
   "metadata": {},
   "outputs": [
    {
     "data": {
      "text/plain": [
       "(479,)"
      ]
     },
     "execution_count": 75,
     "metadata": {},
     "output_type": "execute_result"
    }
   ],
   "source": [
    "test[-479:].shape"
   ]
  },
  {
   "cell_type": "code",
   "execution_count": 76,
   "metadata": {},
   "outputs": [
    {
     "data": {
      "text/plain": [
       "479"
      ]
     },
     "execution_count": 76,
     "metadata": {},
     "output_type": "execute_result"
    }
   ],
   "source": [
    "len(predy_ls)"
   ]
  },
  {
   "cell_type": "markdown",
   "metadata": {},
   "source": [
    "### Now we have the test values and the predicted values, lets combine them in a dataframe"
   ]
  },
  {
   "cell_type": "code",
   "execution_count": 77,
   "metadata": {},
   "outputs": [],
   "source": [
    "compare_df = pd.DataFrame({\"actual\":test[-479:], \"pred\":predy_ls})"
   ]
  },
  {
   "cell_type": "code",
   "execution_count": 78,
   "metadata": {},
   "outputs": [
    {
     "data": {
      "text/html": [
       "<div>\n",
       "<style scoped>\n",
       "    .dataframe tbody tr th:only-of-type {\n",
       "        vertical-align: middle;\n",
       "    }\n",
       "\n",
       "    .dataframe tbody tr th {\n",
       "        vertical-align: top;\n",
       "    }\n",
       "\n",
       "    .dataframe thead th {\n",
       "        text-align: right;\n",
       "    }\n",
       "</style>\n",
       "<table border=\"1\" class=\"dataframe\">\n",
       "  <thead>\n",
       "    <tr style=\"text-align: right;\">\n",
       "      <th></th>\n",
       "      <th>actual</th>\n",
       "      <th>pred</th>\n",
       "    </tr>\n",
       "    <tr>\n",
       "      <th>Date</th>\n",
       "      <th></th>\n",
       "      <th></th>\n",
       "    </tr>\n",
       "  </thead>\n",
       "  <tbody>\n",
       "    <tr>\n",
       "      <th>2018-01-15</th>\n",
       "      <td>925.851868</td>\n",
       "      <td>932.736572</td>\n",
       "    </tr>\n",
       "    <tr>\n",
       "      <th>2018-01-16</th>\n",
       "      <td>900.295044</td>\n",
       "      <td>931.508911</td>\n",
       "    </tr>\n",
       "    <tr>\n",
       "      <th>2018-01-17</th>\n",
       "      <td>901.806946</td>\n",
       "      <td>899.023682</td>\n",
       "    </tr>\n",
       "    <tr>\n",
       "      <th>2018-01-18</th>\n",
       "      <td>897.124756</td>\n",
       "      <td>906.369751</td>\n",
       "    </tr>\n",
       "    <tr>\n",
       "      <th>2018-01-19</th>\n",
       "      <td>908.440125</td>\n",
       "      <td>902.297852</td>\n",
       "    </tr>\n",
       "    <tr>\n",
       "      <th>...</th>\n",
       "      <td>...</td>\n",
       "      <td>...</td>\n",
       "    </tr>\n",
       "    <tr>\n",
       "      <th>2019-12-26</th>\n",
       "      <td>1495.554810</td>\n",
       "      <td>1513.842041</td>\n",
       "    </tr>\n",
       "    <tr>\n",
       "      <th>2019-12-27</th>\n",
       "      <td>1522.151855</td>\n",
       "      <td>1485.263672</td>\n",
       "    </tr>\n",
       "    <tr>\n",
       "      <th>2019-12-30</th>\n",
       "      <td>1523.977661</td>\n",
       "      <td>1523.656982</td>\n",
       "    </tr>\n",
       "    <tr>\n",
       "      <th>2019-12-31</th>\n",
       "      <td>1494.222534</td>\n",
       "      <td>1527.396729</td>\n",
       "    </tr>\n",
       "    <tr>\n",
       "      <th>2020-01-01</th>\n",
       "      <td>1489.830811</td>\n",
       "      <td>1480.970825</td>\n",
       "    </tr>\n",
       "  </tbody>\n",
       "</table>\n",
       "<p>479 rows × 2 columns</p>\n",
       "</div>"
      ],
      "text/plain": [
       "                 actual         pred\n",
       "Date                                \n",
       "2018-01-15   925.851868   932.736572\n",
       "2018-01-16   900.295044   931.508911\n",
       "2018-01-17   901.806946   899.023682\n",
       "2018-01-18   897.124756   906.369751\n",
       "2018-01-19   908.440125   902.297852\n",
       "...                 ...          ...\n",
       "2019-12-26  1495.554810  1513.842041\n",
       "2019-12-27  1522.151855  1485.263672\n",
       "2019-12-30  1523.977661  1523.656982\n",
       "2019-12-31  1494.222534  1527.396729\n",
       "2020-01-01  1489.830811  1480.970825\n",
       "\n",
       "[479 rows x 2 columns]"
      ]
     },
     "execution_count": 78,
     "metadata": {},
     "output_type": "execute_result"
    }
   ],
   "source": [
    "compare_df"
   ]
  },
  {
   "cell_type": "code",
   "execution_count": 81,
   "metadata": {},
   "outputs": [
    {
     "data": {
      "text/plain": [
       "<AxesSubplot:xlabel='Date'>"
      ]
     },
     "execution_count": 81,
     "metadata": {},
     "output_type": "execute_result"
    },
    {
     "data": {
      "image/png": "[encoded data removed]",
      "text/plain": [
       "<Figure size 864x432 with 1 Axes>"
      ]
     },
     "metadata": {
      "needs_background": "light"
     },
     "output_type": "display_data"
    }
   ],
   "source": [
    "compare_df[-60:].plot()"
   ]
  },
  {
   "cell_type": "code",
   "execution_count": 82,
   "metadata": {},
   "outputs": [],
   "source": [
    "from statsmodels.tools.eval_measures import rmse"
   ]
  },
  {
   "cell_type": "code",
   "execution_count": 83,
   "metadata": {},
   "outputs": [
    {
     "data": {
      "text/plain": [
       "20.05861379497727"
      ]
     },
     "execution_count": 83,
     "metadata": {},
     "output_type": "execute_result"
    }
   ],
   "source": [
    "rmse(compare_df['actual'], compare_df['pred'])"
   ]
  },
  {
   "cell_type": "markdown",
   "metadata": {},
   "source": [
    "## This is still dissapointing, can't work with this shit predictions"
   ]
  },
  {
   "cell_type": "code",
   "execution_count": null,
   "metadata": {},
   "outputs": [],
   "source": [
    "\"\"\"\n",
    "Moving on further we'll try the prophet from facebook... lets see\n",
    "\"\"\""
   ]
  }
 ],
 "metadata": {
  "kernelspec": {
   "display_name": "Python 3",
   "language": "python",
   "name": "python3"
  },
  "language_info": {
   "codemirror_mode": {
    "name": "ipython",
    "version": 3
   },
   "file_extension": ".py",
   "mimetype": "text/x-python",
   "name": "python",
   "nbconvert_exporter": "python",
   "pygments_lexer": "ipython3",
   "version": "3.8.5"
  }
 },
 "nbformat": 4,
 "nbformat_minor": 4
}
