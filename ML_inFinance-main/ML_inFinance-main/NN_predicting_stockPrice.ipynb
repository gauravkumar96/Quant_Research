{
 "cells": [
  {
   "cell_type": "code",
   "execution_count": 3,
   "metadata": {},
   "outputs": [],
   "source": [
    "import numpy as np\n",
    "import pandas as pd\n",
    "import matplotlib.pyplot as plt\n",
    "import pandas_datareader as web\n",
    "import datetime as dt"
   ]
  },
  {
   "cell_type": "code",
   "execution_count": 5,
   "metadata": {},
   "outputs": [],
   "source": [
    "from sklearn.preprocessing import MinMaxScaler\n",
    "from tensorflow.keras.models import Sequential\n",
    "from tensorflow.keras.layers import Dense, Dropout, LSTM"
   ]
  },
  {
   "cell_type": "markdown",
   "metadata": {},
   "source": [
    "### loading the company's data"
   ]
  },
  {
   "cell_type": "code",
   "execution_count": 26,
   "metadata": {},
   "outputs": [],
   "source": [
    "company = 'TSLA'\n",
    "start = dt.datetime(2012,1,1)\n",
    "end = dt.datetime(2020,1,1)"
   ]
  },
  {
   "cell_type": "code",
   "execution_count": 27,
   "metadata": {},
   "outputs": [],
   "source": [
    "data = web.DataReader(company, 'yahoo', start, end)"
   ]
  },
  {
   "cell_type": "code",
   "execution_count": 28,
   "metadata": {},
   "outputs": [],
   "source": [
    "# Prepare the data for the neural network\n",
    "scalar = MinMaxScaler(feature_range=(0,1))\n",
    "scaled_data = scalar.fit_transform(data['Adj Close'].values.reshape(-1,1))"
   ]
  },
  {
   "cell_type": "code",
   "execution_count": 29,
   "metadata": {},
   "outputs": [],
   "source": [
    "prediction_days = 60\n",
    "x_train = []\n",
    "y_train = []\n",
    "for x in range(prediction_days, len(scaled_data)):\n",
    "    x_train.append(scaled_data[x-prediction_days:x,0])\n",
    "    y_train.append(scaled_data[x,0])\n",
    "    \n",
    "x_train = np.array(x_train)\n",
    "y_train = np.array(y_train)"
   ]
  },
  {
   "cell_type": "code",
   "execution_count": 30,
   "metadata": {},
   "outputs": [],
   "source": [
    "x_train = np.reshape(x_train, (x_train.shape[0], x_train.shape[1], 1))"
   ]
  },
  {
   "cell_type": "code",
   "execution_count": 31,
   "metadata": {},
   "outputs": [
    {
     "name": "stdout",
     "output_type": "stream",
     "text": [
      "Epoch 1/25\n",
      "61/61 [==============================] - 6s 36ms/step - loss: 0.0604\n",
      "Epoch 2/25\n",
      "61/61 [==============================] - 2s 35ms/step - loss: 0.0055\n",
      "Epoch 3/25\n",
      "61/61 [==============================] - 2s 36ms/step - loss: 0.0048\n",
      "Epoch 4/25\n",
      "61/61 [==============================] - 2s 36ms/step - loss: 0.0056\n",
      "Epoch 5/25\n",
      "61/61 [==============================] - 2s 35ms/step - loss: 0.0042\n",
      "Epoch 6/25\n",
      "61/61 [==============================] - 2s 36ms/step - loss: 0.0047\n",
      "Epoch 7/25\n",
      "61/61 [==============================] - 2s 36ms/step - loss: 0.0038\n",
      "Epoch 8/25\n",
      "61/61 [==============================] - 2s 36ms/step - loss: 0.0034\n",
      "Epoch 9/25\n",
      "61/61 [==============================] - 2s 36ms/step - loss: 0.0033\n",
      "Epoch 10/25\n",
      "61/61 [==============================] - 2s 36ms/step - loss: 0.0035\n",
      "Epoch 11/25\n",
      "61/61 [==============================] - 2s 36ms/step - loss: 0.0035\n",
      "Epoch 12/25\n",
      "61/61 [==============================] - 2s 36ms/step - loss: 0.0034\n",
      "Epoch 13/25\n",
      "61/61 [==============================] - 2s 36ms/step - loss: 0.0033\n",
      "Epoch 14/25\n",
      "61/61 [==============================] - 2s 36ms/step - loss: 0.0029\n",
      "Epoch 15/25\n",
      "61/61 [==============================] - 2s 36ms/step - loss: 0.0026\n",
      "Epoch 16/25\n",
      "61/61 [==============================] - 2s 36ms/step - loss: 0.0029\n",
      "Epoch 17/25\n",
      "61/61 [==============================] - 2s 36ms/step - loss: 0.0027\n",
      "Epoch 18/25\n",
      "61/61 [==============================] - 2s 37ms/step - loss: 0.0023\n",
      "Epoch 19/25\n",
      "61/61 [==============================] - 2s 37ms/step - loss: 0.0023\n",
      "Epoch 20/25\n",
      "61/61 [==============================] - 2s 37ms/step - loss: 0.0023\n",
      "Epoch 21/25\n",
      "61/61 [==============================] - 2s 37ms/step - loss: 0.0024\n",
      "Epoch 22/25\n",
      "61/61 [==============================] - 2s 37ms/step - loss: 0.0023\n",
      "Epoch 23/25\n",
      "61/61 [==============================] - 2s 37ms/step - loss: 0.0021\n",
      "Epoch 24/25\n",
      "61/61 [==============================] - 2s 37ms/step - loss: 0.0022\n",
      "Epoch 25/25\n",
      "61/61 [==============================] - 2s 37ms/step - loss: 0.0022\n"
     ]
    },
    {
     "data": {
      "text/plain": [
       "<tensorflow.python.keras.callbacks.History at 0x2e9b5ee8e50>"
      ]
     },
     "execution_count": 31,
     "metadata": {},
     "output_type": "execute_result"
    }
   ],
   "source": [
    "model = Sequential()\n",
    "model.add(LSTM(units = 50, return_sequences=True, input_shape=(x_train.shape[1],1)))\n",
    "model.add(Dropout(0.2))\n",
    "model.add(LSTM(units=50, return_sequences=True))\n",
    "model.add(Dropout(0.2))\n",
    "model.add(LSTM(units=50))\n",
    "model.add(Dropout(0.2))\n",
    "model.add(Dense(units=1))\n",
    "model.compile(optimizer='adam', loss='mean_squared_error')\n",
    "model.fit(x_train, y_train,epochs=25, batch_size=32 )\n",
    "\n"
   ]
  },
  {
   "cell_type": "code",
   "execution_count": 32,
   "metadata": {},
   "outputs": [],
   "source": [
    "test_start = dt.datetime(2020,1,1)\n",
    "test_end = dt.datetime.now()\n",
    "test_data = web.DataReader(company,'yahoo',test_start, test_end)\n",
    "actual_prices = test_data['Adj Close'].values\n",
    "\n",
    "total_dataset = pd.concat((data['Adj Close'],test_data['Adj Close']), axis = 0)\n",
    "model_inputs = total_dataset[len(total_dataset) - len(test_data) - prediction_days:].values\n",
    "model_inputs = model_inputs.reshape(-1,1)\n",
    "model_inputs = scalar.transform(model_inputs)"
   ]
  },
  {
   "cell_type": "code",
   "execution_count": 33,
   "metadata": {},
   "outputs": [],
   "source": [
    "# making prediction on the test data\n",
    "x_test = []\n",
    "for x in range(prediction_days, len(model_inputs)):\n",
    "    x_test.append(model_inputs[x - prediction_days:x,0])"
   ]
  },
  {
   "cell_type": "code",
   "execution_count": 34,
   "metadata": {},
   "outputs": [],
   "source": [
    "x_test = np.array(x_test)\n",
    "x_test = np.reshape(x_test, (x_test.shape[0], x_test.shape[1],1))"
   ]
  },
  {
   "cell_type": "code",
   "execution_count": 35,
   "metadata": {},
   "outputs": [],
   "source": [
    "predicted_prices = model.predict(x_test)\n",
    "predicted_prices = scalar.inverse_transform(predicted_prices)"
   ]
  },
  {
   "cell_type": "code",
   "execution_count": 36,
   "metadata": {},
   "outputs": [
    {
     "data": {
      "image/png": "[encoded data removed]",
      "text/plain": [
       "<Figure size 432x288 with 1 Axes>"
      ]
     },
     "metadata": {
      "needs_background": "light"
     },
     "output_type": "display_data"
    }
   ],
   "source": [
    "plt.plot(actual_prices, color = 'black')\n",
    "plt.plot(predicted_prices, color = 'green')\n",
    "plt.show()"
   ]
  },
  {
   "cell_type": "code",
   "execution_count": 25,
   "metadata": {},
   "outputs": [
    {
     "name": "stdout",
     "output_type": "stream",
     "text": [
      "WARNING:tensorflow:Model was constructed with shape (None, 60, 1) for input KerasTensor(type_spec=TensorSpec(shape=(None, 60, 1), dtype=tf.float32, name='lstm_input'), name='lstm_input', description=\"created by layer 'lstm_input'\"), but it was called on an input with incompatible shape (None, 59, 1).\n"
     ]
    }
   ],
   "source": [
    "# predicting the next day's data\n",
    "real_data = [model_inputs[len(model_inputs) + 1 - prediction_days: len(model_inputs+1),0]]\n",
    "real_data = np.array(real_data)\n",
    "real_data  = np.reshape(real_data,(real_data.shape[0], real_data.shape[1],1))    \n",
    "predictiontom = model.predict(real_data)\n",
    "\n",
    "predictiontom = scalar.inverse_transform(predictiontom)"
   ]
  },
  {
   "cell_type": "code",
   "execution_count": null,
   "metadata": {},
   "outputs": [],
   "source": []
  }
 ],
 "metadata": {
  "kernelspec": {
   "display_name": "Python 3",
   "language": "python",
   "name": "python3"
  },
  "language_info": {
   "codemirror_mode": {
    "name": "ipython",
    "version": 3
   },
   "file_extension": ".py",
   "mimetype": "text/x-python",
   "name": "python",
   "nbconvert_exporter": "python",
   "pygments_lexer": "ipython3",
   "version": "3.8.5"
  }
 },
 "nbformat": 4,
 "nbformat_minor": 4
}
