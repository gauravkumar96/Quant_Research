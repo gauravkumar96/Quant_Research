{
 "cells": [
  {
   "cell_type": "code",
   "execution_count": 1,
   "id": "76a14353",
   "metadata": {},
   "outputs": [],
   "source": [
    "import numpy as np\n",
    "import matplotlib.pyplot as plt\n",
    "from scipy.stats import norm\n",
    "import random\n",
    "import math"
   ]
  },
  {
   "cell_type": "code",
   "execution_count": 2,
   "id": "abb8d2d3",
   "metadata": {},
   "outputs": [],
   "source": [
    "r = 0.1\n",
    "s0 = 100\n",
    "sigma = 0.3\n",
    "strike = 110\n",
    "t = 1\n",
    "cur_time = 0"
   ]
  },
  {
   "cell_type": "code",
   "execution_count": 4,
   "id": "f224b2e3",
   "metadata": {},
   "outputs": [],
   "source": [
    "def terminal_shareprice(s0, r, sigma, z, t):\n",
    "    return s0*np.exp((r-sigma**2/2)*t+sigma*np.sqrt(t)*z)"
   ]
  },
  {
   "cell_type": "code",
   "execution_count": 19,
   "id": "ce039684",
   "metadata": {},
   "outputs": [],
   "source": [
    "def discounted_call_payoff(st, k, r, t):\n",
    "    return np.exp(-r*t)*np.maximum(st-k,0)"
   ]
  },
  {
   "cell_type": "code",
   "execution_count": 20,
   "id": "c0517a9b",
   "metadata": {},
   "outputs": [],
   "source": [
    "np.random.seed(0)"
   ]
  },
  {
   "cell_type": "code",
   "execution_count": 21,
   "id": "6254363e",
   "metadata": {},
   "outputs": [],
   "source": [
    "mcall_estimates = [None]*50\n",
    "mcall_std = [None]*50"
   ]
  },
  {
   "cell_type": "code",
   "execution_count": 23,
   "id": "1ad833bc",
   "metadata": {},
   "outputs": [],
   "source": [
    "for i in range(1,51):\n",
    "    norm_array = norm.rvs(size = 1000*i)\n",
    "    term_val = terminal_shareprice(s0, r, sigma, norm_array, t)\n",
    "    mcall_val = discounted_call_payoff(term_val, strike, r, t)\n",
    "    mcall_estimates[i-1] = np.mean(mcall_val)\n",
    "    mcall_std[i-1] = np.std(mcall_val)/np.sqrt(1000*i)"
   ]
  },
  {
   "cell_type": "code",
   "execution_count": 34,
   "id": "a861ab14",
   "metadata": {},
   "outputs": [],
   "source": [
    "# analytical value of the call price\n",
    "\n",
    "d1 = (math.log(s0/strike) + (r+sigma**2/2)*t)/(sigma*math.sqrt(t))\n",
    "d2 = d1 - sigma*math.sqrt(t)\n",
    "call_pe = s0*norm.cdf(d1) - strike*math.exp(-r*t)*norm.cdf(d2)"
   ]
  },
  {
   "cell_type": "code",
   "execution_count": 35,
   "id": "ebabf751",
   "metadata": {},
   "outputs": [
    {
     "data": {
      "text/plain": [
       "[<matplotlib.lines.Line2D at 0x201d0e4b970>]"
      ]
     },
     "execution_count": 35,
     "metadata": {},
     "output_type": "execute_result"
    },
    {
     "data": {
      "image/png": "[encoded data removed]",
      "text/plain": [
       "<Figure size 432x288 with 1 Axes>"
      ]
     },
     "metadata": {
      "needs_background": "light"
     },
     "output_type": "display_data"
    }
   ],
   "source": [
    "# plotting the graph for the call price simulation\n",
    "plt.plot([call_pe]*50)\n",
    "plt.plot(mcall_estimates,'.')\n",
    "plt.plot(call_pe + np.array(mcall_std)*3)\n",
    "plt.plot(call_pe - np.array(mcall_std)*3)"
   ]
  },
  {
   "cell_type": "code",
   "execution_count": null,
   "id": "a2dfba2e",
   "metadata": {},
   "outputs": [],
   "source": []
  }
 ],
 "metadata": {
  "kernelspec": {
   "display_name": "Python 3",
   "language": "python",
   "name": "python3"
  },
  "language_info": {
   "codemirror_mode": {
    "name": "ipython",
    "version": 3
   },
   "file_extension": ".py",
   "mimetype": "text/x-python",
   "name": "python",
   "nbconvert_exporter": "python",
   "pygments_lexer": "ipython3",
   "version": "3.8.8"
  }
 },
 "nbformat": 4,
 "nbformat_minor": 5
}
